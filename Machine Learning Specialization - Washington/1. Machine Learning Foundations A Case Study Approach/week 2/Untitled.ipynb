{
 "cells": [
  {
   "cell_type": "code",
   "execution_count": 3,
   "metadata": {},
   "outputs": [],
   "source": [
    "import numpy as np\n",
    "import pandas as pd"
   ]
  },
  {
   "cell_type": "code",
   "execution_count": 5,
   "metadata": {},
   "outputs": [
    {
     "name": "stdout",
     "output_type": "stream",
     "text": [
      "house-prices-advanced-regression-techniques\\data_description.txt\n",
      "house-prices-advanced-regression-techniques\\sample_submission.csv\n",
      "house-prices-advanced-regression-techniques\\test.csv\n",
      "house-prices-advanced-regression-techniques\\train.csv\n"
     ]
    }
   ],
   "source": [
    "import os \n",
    "for dirname,_,filenames in os.walk('house-prices-advanced-regression-techniques'):\n",
    "    for filename in filenames:\n",
    "        print(os.path.join(dirname,filename))"
   ]
  },
  {
   "cell_type": "code",
   "execution_count": 6,
   "metadata": {},
   "outputs": [],
   "source": [
    "import seaborn as sns \n",
    "import matplotlib.pyplot as plt\n",
    "%matplotlib inline\n",
    "\n",
    "from sklearn.model_selection import train_test_split"
   ]
  },
  {
   "cell_type": "code",
   "execution_count": 44,
   "metadata": {},
   "outputs": [],
   "source": [
    "from sklearn.compose import ColumnTransformer\n",
    "from sklearn.preprocessing import StandardScaler\n",
    "from sklearn.pipeline import Pipeline\n",
    "from sklearn.impute import SimpleImputer\n",
    "from sklearn.preprocessing import OneHotEncoder"
   ]
  },
  {
   "cell_type": "code",
   "execution_count": 11,
   "metadata": {},
   "outputs": [],
   "source": [
    "from sklearn.ensemble import RandomForestClassifier\n",
    "from sklearn.model_selection import cross_val_score\n",
    "from sklearn.metrics import mean_absolute_error"
   ]
  },
  {
   "cell_type": "code",
   "execution_count": 22,
   "metadata": {},
   "outputs": [],
   "source": [
    "housing = pd.read_csv(\"./house-prices-advanced-regression-techniques/train.csv\")\n",
    "\n",
    "housing.drop(['Id'], axis=1,inplace=True)"
   ]
  },
  {
   "cell_type": "code",
   "execution_count": 23,
   "metadata": {},
   "outputs": [
    {
     "data": {
      "text/html": [
       "<div>\n",
       "<style scoped>\n",
       "    .dataframe tbody tr th:only-of-type {\n",
       "        vertical-align: middle;\n",
       "    }\n",
       "\n",
       "    .dataframe tbody tr th {\n",
       "        vertical-align: top;\n",
       "    }\n",
       "\n",
       "    .dataframe thead th {\n",
       "        text-align: right;\n",
       "    }\n",
       "</style>\n",
       "<table border=\"1\" class=\"dataframe\">\n",
       "  <thead>\n",
       "    <tr style=\"text-align: right;\">\n",
       "      <th></th>\n",
       "      <th>MSSubClass</th>\n",
       "      <th>MSZoning</th>\n",
       "      <th>LotFrontage</th>\n",
       "      <th>LotArea</th>\n",
       "      <th>Street</th>\n",
       "      <th>Alley</th>\n",
       "      <th>LotShape</th>\n",
       "      <th>LandContour</th>\n",
       "      <th>Utilities</th>\n",
       "      <th>LotConfig</th>\n",
       "      <th>...</th>\n",
       "      <th>PoolArea</th>\n",
       "      <th>PoolQC</th>\n",
       "      <th>Fence</th>\n",
       "      <th>MiscFeature</th>\n",
       "      <th>MiscVal</th>\n",
       "      <th>MoSold</th>\n",
       "      <th>YrSold</th>\n",
       "      <th>SaleType</th>\n",
       "      <th>SaleCondition</th>\n",
       "      <th>SalePrice</th>\n",
       "    </tr>\n",
       "  </thead>\n",
       "  <tbody>\n",
       "    <tr>\n",
       "      <th>0</th>\n",
       "      <td>60</td>\n",
       "      <td>RL</td>\n",
       "      <td>65.0</td>\n",
       "      <td>8450</td>\n",
       "      <td>Pave</td>\n",
       "      <td>NaN</td>\n",
       "      <td>Reg</td>\n",
       "      <td>Lvl</td>\n",
       "      <td>AllPub</td>\n",
       "      <td>Inside</td>\n",
       "      <td>...</td>\n",
       "      <td>0</td>\n",
       "      <td>NaN</td>\n",
       "      <td>NaN</td>\n",
       "      <td>NaN</td>\n",
       "      <td>0</td>\n",
       "      <td>2</td>\n",
       "      <td>2008</td>\n",
       "      <td>WD</td>\n",
       "      <td>Normal</td>\n",
       "      <td>208500</td>\n",
       "    </tr>\n",
       "    <tr>\n",
       "      <th>1</th>\n",
       "      <td>20</td>\n",
       "      <td>RL</td>\n",
       "      <td>80.0</td>\n",
       "      <td>9600</td>\n",
       "      <td>Pave</td>\n",
       "      <td>NaN</td>\n",
       "      <td>Reg</td>\n",
       "      <td>Lvl</td>\n",
       "      <td>AllPub</td>\n",
       "      <td>FR2</td>\n",
       "      <td>...</td>\n",
       "      <td>0</td>\n",
       "      <td>NaN</td>\n",
       "      <td>NaN</td>\n",
       "      <td>NaN</td>\n",
       "      <td>0</td>\n",
       "      <td>5</td>\n",
       "      <td>2007</td>\n",
       "      <td>WD</td>\n",
       "      <td>Normal</td>\n",
       "      <td>181500</td>\n",
       "    </tr>\n",
       "    <tr>\n",
       "      <th>2</th>\n",
       "      <td>60</td>\n",
       "      <td>RL</td>\n",
       "      <td>68.0</td>\n",
       "      <td>11250</td>\n",
       "      <td>Pave</td>\n",
       "      <td>NaN</td>\n",
       "      <td>IR1</td>\n",
       "      <td>Lvl</td>\n",
       "      <td>AllPub</td>\n",
       "      <td>Inside</td>\n",
       "      <td>...</td>\n",
       "      <td>0</td>\n",
       "      <td>NaN</td>\n",
       "      <td>NaN</td>\n",
       "      <td>NaN</td>\n",
       "      <td>0</td>\n",
       "      <td>9</td>\n",
       "      <td>2008</td>\n",
       "      <td>WD</td>\n",
       "      <td>Normal</td>\n",
       "      <td>223500</td>\n",
       "    </tr>\n",
       "    <tr>\n",
       "      <th>3</th>\n",
       "      <td>70</td>\n",
       "      <td>RL</td>\n",
       "      <td>60.0</td>\n",
       "      <td>9550</td>\n",
       "      <td>Pave</td>\n",
       "      <td>NaN</td>\n",
       "      <td>IR1</td>\n",
       "      <td>Lvl</td>\n",
       "      <td>AllPub</td>\n",
       "      <td>Corner</td>\n",
       "      <td>...</td>\n",
       "      <td>0</td>\n",
       "      <td>NaN</td>\n",
       "      <td>NaN</td>\n",
       "      <td>NaN</td>\n",
       "      <td>0</td>\n",
       "      <td>2</td>\n",
       "      <td>2006</td>\n",
       "      <td>WD</td>\n",
       "      <td>Abnorml</td>\n",
       "      <td>140000</td>\n",
       "    </tr>\n",
       "    <tr>\n",
       "      <th>4</th>\n",
       "      <td>60</td>\n",
       "      <td>RL</td>\n",
       "      <td>84.0</td>\n",
       "      <td>14260</td>\n",
       "      <td>Pave</td>\n",
       "      <td>NaN</td>\n",
       "      <td>IR1</td>\n",
       "      <td>Lvl</td>\n",
       "      <td>AllPub</td>\n",
       "      <td>FR2</td>\n",
       "      <td>...</td>\n",
       "      <td>0</td>\n",
       "      <td>NaN</td>\n",
       "      <td>NaN</td>\n",
       "      <td>NaN</td>\n",
       "      <td>0</td>\n",
       "      <td>12</td>\n",
       "      <td>2008</td>\n",
       "      <td>WD</td>\n",
       "      <td>Normal</td>\n",
       "      <td>250000</td>\n",
       "    </tr>\n",
       "  </tbody>\n",
       "</table>\n",
       "<p>5 rows × 80 columns</p>\n",
       "</div>"
      ],
      "text/plain": [
       "   MSSubClass MSZoning  LotFrontage  LotArea Street Alley LotShape  \\\n",
       "0          60       RL         65.0     8450   Pave   NaN      Reg   \n",
       "1          20       RL         80.0     9600   Pave   NaN      Reg   \n",
       "2          60       RL         68.0    11250   Pave   NaN      IR1   \n",
       "3          70       RL         60.0     9550   Pave   NaN      IR1   \n",
       "4          60       RL         84.0    14260   Pave   NaN      IR1   \n",
       "\n",
       "  LandContour Utilities LotConfig  ... PoolArea PoolQC Fence MiscFeature  \\\n",
       "0         Lvl    AllPub    Inside  ...        0    NaN   NaN         NaN   \n",
       "1         Lvl    AllPub       FR2  ...        0    NaN   NaN         NaN   \n",
       "2         Lvl    AllPub    Inside  ...        0    NaN   NaN         NaN   \n",
       "3         Lvl    AllPub    Corner  ...        0    NaN   NaN         NaN   \n",
       "4         Lvl    AllPub       FR2  ...        0    NaN   NaN         NaN   \n",
       "\n",
       "  MiscVal MoSold  YrSold  SaleType  SaleCondition  SalePrice  \n",
       "0       0      2    2008        WD         Normal     208500  \n",
       "1       0      5    2007        WD         Normal     181500  \n",
       "2       0      9    2008        WD         Normal     223500  \n",
       "3       0      2    2006        WD        Abnorml     140000  \n",
       "4       0     12    2008        WD         Normal     250000  \n",
       "\n",
       "[5 rows x 80 columns]"
      ]
     },
     "execution_count": 23,
     "metadata": {},
     "output_type": "execute_result"
    }
   ],
   "source": [
    "housing.head()"
   ]
  },
  {
   "cell_type": "code",
   "execution_count": 26,
   "metadata": {},
   "outputs": [
    {
     "data": {
      "text/plain": [
       "Index(['MSSubClass', 'MSZoning', 'LotFrontage', 'LotArea', 'Street', 'Alley',\n",
       "       'LotShape', 'LandContour', 'Utilities', 'LotConfig', 'LandSlope',\n",
       "       'Neighborhood', 'Condition1', 'Condition2', 'BldgType', 'HouseStyle',\n",
       "       'OverallQual', 'OverallCond', 'YearBuilt', 'YearRemodAdd', 'RoofStyle',\n",
       "       'RoofMatl', 'Exterior1st', 'Exterior2nd', 'MasVnrType', 'MasVnrArea',\n",
       "       'ExterQual', 'ExterCond', 'Foundation', 'BsmtQual', 'BsmtCond',\n",
       "       'BsmtExposure', 'BsmtFinType1', 'BsmtFinSF1', 'BsmtFinType2',\n",
       "       'BsmtFinSF2', 'BsmtUnfSF', 'TotalBsmtSF', 'Heating', 'HeatingQC',\n",
       "       'CentralAir', 'Electrical', '1stFlrSF', '2ndFlrSF', 'LowQualFinSF',\n",
       "       'GrLivArea', 'BsmtFullBath', 'BsmtHalfBath', 'FullBath', 'HalfBath',\n",
       "       'BedroomAbvGr', 'KitchenAbvGr', 'KitchenQual', 'TotRmsAbvGrd',\n",
       "       'Functional', 'Fireplaces', 'FireplaceQu', 'GarageType', 'GarageYrBlt',\n",
       "       'GarageFinish', 'GarageCars', 'GarageArea', 'GarageQual', 'GarageCond',\n",
       "       'PavedDrive', 'WoodDeckSF', 'OpenPorchSF', 'EnclosedPorch', '3SsnPorch',\n",
       "       'ScreenPorch', 'PoolArea', 'PoolQC', 'Fence', 'MiscFeature', 'MiscVal',\n",
       "       'MoSold', 'YrSold', 'SaleType', 'SaleCondition', 'SalePrice'],\n",
       "      dtype='object')"
      ]
     },
     "execution_count": 26,
     "metadata": {},
     "output_type": "execute_result"
    }
   ],
   "source": [
    "housing.columns"
   ]
  },
  {
   "cell_type": "code",
   "execution_count": 24,
   "metadata": {},
   "outputs": [
    {
     "data": {
      "text/plain": [
       "MSSubClass          0\n",
       "TotalBsmtSF         0\n",
       "Heating             0\n",
       "SaleCondition       0\n",
       "CentralAir          0\n",
       "                 ... \n",
       "FireplaceQu       690\n",
       "Fence            1179\n",
       "Alley            1369\n",
       "MiscFeature      1406\n",
       "PoolQC           1453\n",
       "Length: 80, dtype: int64"
      ]
     },
     "execution_count": 24,
     "metadata": {},
     "output_type": "execute_result"
    }
   ],
   "source": [
    "housing.isnull().sum().sort_values()"
   ]
  },
  {
   "cell_type": "markdown",
   "metadata": {},
   "source": [
    "# 2. Fixing missing values explicitly"
   ]
  },
  {
   "cell_type": "code",
   "execution_count": 28,
   "metadata": {},
   "outputs": [],
   "source": [
    "df = housing \n",
    "cat_columns=df.select_dtypes(include=['object']).columns\n",
    "\n",
    "for col in cat_columns:\n",
    "    df[col] = df[col].fillna(\"None\")\n",
    "\n",
    "df['LotFrontage'] = df.groupby('Neighborhood')['LotFrontage'].transform(lambda x:x.fillna(x.median()))\n",
    "    "
   ]
  },
  {
   "cell_type": "code",
   "execution_count": 29,
   "metadata": {},
   "outputs": [],
   "source": [
    "num_cloumns=df.select_dtypes(exclude=['object']).columns\n",
    "for col in num_cloumns:\n",
    "    if col is not 'Electrical':\n",
    "        df[col]=df[col].fillna(int(0))"
   ]
  },
  {
   "cell_type": "code",
   "execution_count": 30,
   "metadata": {},
   "outputs": [],
   "source": [
    "df['Electrical'] = df['Electrical'].fillna(df['Electrical'].mode()[0])\n",
    "\n",
    "df=df.drop(['Utilities'],axis=1)"
   ]
  },
  {
   "cell_type": "code",
   "execution_count": 31,
   "metadata": {},
   "outputs": [
    {
     "data": {
      "text/plain": [
       "0"
      ]
     },
     "execution_count": 31,
     "metadata": {},
     "output_type": "execute_result"
    }
   ],
   "source": [
    "df.isnull().apply(sum).max()"
   ]
  },
  {
   "cell_type": "code",
   "execution_count": 32,
   "metadata": {},
   "outputs": [
    {
     "name": "stdout",
     "output_type": "stream",
     "text": [
      "<class 'pandas.core.frame.DataFrame'>\n",
      "RangeIndex: 1460 entries, 0 to 1459\n",
      "Data columns (total 79 columns):\n",
      " #   Column         Non-Null Count  Dtype  \n",
      "---  ------         --------------  -----  \n",
      " 0   MSSubClass     1460 non-null   int64  \n",
      " 1   MSZoning       1460 non-null   object \n",
      " 2   LotFrontage    1460 non-null   float64\n",
      " 3   LotArea        1460 non-null   int64  \n",
      " 4   Street         1460 non-null   object \n",
      " 5   Alley          1460 non-null   object \n",
      " 6   LotShape       1460 non-null   object \n",
      " 7   LandContour    1460 non-null   object \n",
      " 8   LotConfig      1460 non-null   object \n",
      " 9   LandSlope      1460 non-null   object \n",
      " 10  Neighborhood   1460 non-null   object \n",
      " 11  Condition1     1460 non-null   object \n",
      " 12  Condition2     1460 non-null   object \n",
      " 13  BldgType       1460 non-null   object \n",
      " 14  HouseStyle     1460 non-null   object \n",
      " 15  OverallQual    1460 non-null   int64  \n",
      " 16  OverallCond    1460 non-null   int64  \n",
      " 17  YearBuilt      1460 non-null   int64  \n",
      " 18  YearRemodAdd   1460 non-null   int64  \n",
      " 19  RoofStyle      1460 non-null   object \n",
      " 20  RoofMatl       1460 non-null   object \n",
      " 21  Exterior1st    1460 non-null   object \n",
      " 22  Exterior2nd    1460 non-null   object \n",
      " 23  MasVnrType     1460 non-null   object \n",
      " 24  MasVnrArea     1460 non-null   float64\n",
      " 25  ExterQual      1460 non-null   object \n",
      " 26  ExterCond      1460 non-null   object \n",
      " 27  Foundation     1460 non-null   object \n",
      " 28  BsmtQual       1460 non-null   object \n",
      " 29  BsmtCond       1460 non-null   object \n",
      " 30  BsmtExposure   1460 non-null   object \n",
      " 31  BsmtFinType1   1460 non-null   object \n",
      " 32  BsmtFinSF1     1460 non-null   int64  \n",
      " 33  BsmtFinType2   1460 non-null   object \n",
      " 34  BsmtFinSF2     1460 non-null   int64  \n",
      " 35  BsmtUnfSF      1460 non-null   int64  \n",
      " 36  TotalBsmtSF    1460 non-null   int64  \n",
      " 37  Heating        1460 non-null   object \n",
      " 38  HeatingQC      1460 non-null   object \n",
      " 39  CentralAir     1460 non-null   object \n",
      " 40  Electrical     1460 non-null   object \n",
      " 41  1stFlrSF       1460 non-null   int64  \n",
      " 42  2ndFlrSF       1460 non-null   int64  \n",
      " 43  LowQualFinSF   1460 non-null   int64  \n",
      " 44  GrLivArea      1460 non-null   int64  \n",
      " 45  BsmtFullBath   1460 non-null   int64  \n",
      " 46  BsmtHalfBath   1460 non-null   int64  \n",
      " 47  FullBath       1460 non-null   int64  \n",
      " 48  HalfBath       1460 non-null   int64  \n",
      " 49  BedroomAbvGr   1460 non-null   int64  \n",
      " 50  KitchenAbvGr   1460 non-null   int64  \n",
      " 51  KitchenQual    1460 non-null   object \n",
      " 52  TotRmsAbvGrd   1460 non-null   int64  \n",
      " 53  Functional     1460 non-null   object \n",
      " 54  Fireplaces     1460 non-null   int64  \n",
      " 55  FireplaceQu    1460 non-null   object \n",
      " 56  GarageType     1460 non-null   object \n",
      " 57  GarageYrBlt    1460 non-null   float64\n",
      " 58  GarageFinish   1460 non-null   object \n",
      " 59  GarageCars     1460 non-null   int64  \n",
      " 60  GarageArea     1460 non-null   int64  \n",
      " 61  GarageQual     1460 non-null   object \n",
      " 62  GarageCond     1460 non-null   object \n",
      " 63  PavedDrive     1460 non-null   object \n",
      " 64  WoodDeckSF     1460 non-null   int64  \n",
      " 65  OpenPorchSF    1460 non-null   int64  \n",
      " 66  EnclosedPorch  1460 non-null   int64  \n",
      " 67  3SsnPorch      1460 non-null   int64  \n",
      " 68  ScreenPorch    1460 non-null   int64  \n",
      " 69  PoolArea       1460 non-null   int64  \n",
      " 70  PoolQC         1460 non-null   object \n",
      " 71  Fence          1460 non-null   object \n",
      " 72  MiscFeature    1460 non-null   object \n",
      " 73  MiscVal        1460 non-null   int64  \n",
      " 74  MoSold         1460 non-null   int64  \n",
      " 75  YrSold         1460 non-null   int64  \n",
      " 76  SaleType       1460 non-null   object \n",
      " 77  SaleCondition  1460 non-null   object \n",
      " 78  SalePrice      1460 non-null   int64  \n",
      "dtypes: float64(3), int64(34), object(42)\n",
      "memory usage: 901.2+ KB\n"
     ]
    }
   ],
   "source": [
    "df.info()"
   ]
  },
  {
   "cell_type": "markdown",
   "metadata": {},
   "source": [
    "# 3. Dealing with Outliers"
   ]
  },
  {
   "cell_type": "code",
   "execution_count": 34,
   "metadata": {},
   "outputs": [
    {
     "name": "stdout",
     "output_type": "stream",
     "text": [
      "<class 'pandas.core.frame.DataFrame'>\n",
      "Int64Index: 1422 entries, 0 to 1458\n",
      "Data columns (total 79 columns):\n",
      " #   Column         Non-Null Count  Dtype  \n",
      "---  ------         --------------  -----  \n",
      " 0   MSSubClass     1422 non-null   int64  \n",
      " 1   MSZoning       1422 non-null   object \n",
      " 2   LotFrontage    1422 non-null   float64\n",
      " 3   LotArea        1422 non-null   int64  \n",
      " 4   Street         1422 non-null   object \n",
      " 5   Alley          1422 non-null   object \n",
      " 6   LotShape       1422 non-null   object \n",
      " 7   LandContour    1422 non-null   object \n",
      " 8   LotConfig      1422 non-null   object \n",
      " 9   LandSlope      1422 non-null   object \n",
      " 10  Neighborhood   1422 non-null   object \n",
      " 11  Condition1     1422 non-null   object \n",
      " 12  Condition2     1422 non-null   object \n",
      " 13  BldgType       1422 non-null   object \n",
      " 14  HouseStyle     1422 non-null   object \n",
      " 15  OverallQual    1422 non-null   int64  \n",
      " 16  OverallCond    1422 non-null   int64  \n",
      " 17  YearBuilt      1422 non-null   int64  \n",
      " 18  YearRemodAdd   1422 non-null   int64  \n",
      " 19  RoofStyle      1422 non-null   object \n",
      " 20  RoofMatl       1422 non-null   object \n",
      " 21  Exterior1st    1422 non-null   object \n",
      " 22  Exterior2nd    1422 non-null   object \n",
      " 23  MasVnrType     1422 non-null   object \n",
      " 24  MasVnrArea     1422 non-null   float64\n",
      " 25  ExterQual      1422 non-null   object \n",
      " 26  ExterCond      1422 non-null   object \n",
      " 27  Foundation     1422 non-null   object \n",
      " 28  BsmtQual       1422 non-null   object \n",
      " 29  BsmtCond       1422 non-null   object \n",
      " 30  BsmtExposure   1422 non-null   object \n",
      " 31  BsmtFinType1   1422 non-null   object \n",
      " 32  BsmtFinSF1     1422 non-null   int64  \n",
      " 33  BsmtFinType2   1422 non-null   object \n",
      " 34  BsmtFinSF2     1422 non-null   int64  \n",
      " 35  BsmtUnfSF      1422 non-null   int64  \n",
      " 36  TotalBsmtSF    1422 non-null   int64  \n",
      " 37  Heating        1422 non-null   object \n",
      " 38  HeatingQC      1422 non-null   object \n",
      " 39  CentralAir     1422 non-null   object \n",
      " 40  Electrical     1422 non-null   object \n",
      " 41  1stFlrSF       1422 non-null   int64  \n",
      " 42  2ndFlrSF       1422 non-null   int64  \n",
      " 43  LowQualFinSF   1422 non-null   int64  \n",
      " 44  GrLivArea      1422 non-null   int64  \n",
      " 45  BsmtFullBath   1422 non-null   int64  \n",
      " 46  BsmtHalfBath   1422 non-null   int64  \n",
      " 47  FullBath       1422 non-null   int64  \n",
      " 48  HalfBath       1422 non-null   int64  \n",
      " 49  BedroomAbvGr   1422 non-null   int64  \n",
      " 50  KitchenAbvGr   1422 non-null   int64  \n",
      " 51  KitchenQual    1422 non-null   object \n",
      " 52  TotRmsAbvGrd   1422 non-null   int64  \n",
      " 53  Functional     1422 non-null   object \n",
      " 54  Fireplaces     1422 non-null   int64  \n",
      " 55  FireplaceQu    1422 non-null   object \n",
      " 56  GarageType     1422 non-null   object \n",
      " 57  GarageYrBlt    1422 non-null   float64\n",
      " 58  GarageFinish   1422 non-null   object \n",
      " 59  GarageCars     1422 non-null   int64  \n",
      " 60  GarageArea     1422 non-null   int64  \n",
      " 61  GarageQual     1422 non-null   object \n",
      " 62  GarageCond     1422 non-null   object \n",
      " 63  PavedDrive     1422 non-null   object \n",
      " 64  WoodDeckSF     1422 non-null   int64  \n",
      " 65  OpenPorchSF    1422 non-null   int64  \n",
      " 66  EnclosedPorch  1422 non-null   int64  \n",
      " 67  3SsnPorch      1422 non-null   int64  \n",
      " 68  ScreenPorch    1422 non-null   int64  \n",
      " 69  PoolArea       1422 non-null   int64  \n",
      " 70  PoolQC         1422 non-null   object \n",
      " 71  Fence          1422 non-null   object \n",
      " 72  MiscFeature    1422 non-null   object \n",
      " 73  MiscVal        1422 non-null   int64  \n",
      " 74  MoSold         1422 non-null   int64  \n",
      " 75  YrSold         1422 non-null   int64  \n",
      " 76  SaleType       1422 non-null   object \n",
      " 77  SaleCondition  1422 non-null   object \n",
      " 78  SalePrice      1422 non-null   int64  \n",
      "dtypes: float64(3), int64(34), object(42)\n",
      "memory usage: 888.8+ KB\n"
     ]
    }
   ],
   "source": [
    "num_attributes= df[num_cloumns]\n",
    "\n",
    "high_quant = df.quantile(0.999)\n",
    "\n",
    "for col in num_cloumns:\n",
    "    df = df.drop(df[col][df[col]>high_quant[col]].index)\n",
    "    \n",
    "df.info()"
   ]
  },
  {
   "cell_type": "markdown",
   "metadata": {},
   "source": [
    "# 4. Dealing with correlated attributes"
   ]
  },
  {
   "cell_type": "code",
   "execution_count": 35,
   "metadata": {},
   "outputs": [],
   "source": [
    "attributes_drop = ['MiscVal', 'MoSold', 'YrSold', 'BsmtFinSF2', 'BsmtHalfBath', 'MSSubClass', 'GarageArea',\n",
    "                  'GarageYrBlt', '3SsnPorch']\n",
    "df.drop(attributes_drop, axis=1, inplace=True)\n",
    "\n",
    "# Removing columns with lots of missing values - PoolQC: 1453, MiscFeature: 1406, Alley: 1369, Fence: 1179\n",
    "attributes_drop = ['PoolQC', 'MiscFeature', 'Alley', 'Fence']\n",
    "df.drop(attributes_drop, axis=1, inplace=True)"
   ]
  },
  {
   "cell_type": "markdown",
   "metadata": {},
   "source": [
    "# 5. Handling Text and Categorical Values"
   ]
  },
  {
   "cell_type": "code",
   "execution_count": 36,
   "metadata": {},
   "outputs": [
    {
     "data": {
      "text/plain": [
       "Index(['MSZoning', 'Street', 'LotShape', 'LandContour', 'LotConfig',\n",
       "       'LandSlope', 'Neighborhood', 'Condition1', 'Condition2', 'BldgType',\n",
       "       'HouseStyle', 'RoofStyle', 'RoofMatl', 'Exterior1st', 'Exterior2nd',\n",
       "       'MasVnrType', 'ExterQual', 'ExterCond', 'Foundation', 'BsmtQual',\n",
       "       'BsmtCond', 'BsmtExposure', 'BsmtFinType1', 'BsmtFinType2', 'Heating',\n",
       "       'HeatingQC', 'CentralAir', 'Electrical', 'KitchenQual', 'Functional',\n",
       "       'FireplaceQu', 'GarageType', 'GarageFinish', 'GarageQual', 'GarageCond',\n",
       "       'PavedDrive', 'SaleType', 'SaleCondition'],\n",
       "      dtype='object')"
      ]
     },
     "execution_count": 36,
     "metadata": {},
     "output_type": "execute_result"
    }
   ],
   "source": [
    "df.select_dtypes(include=['object']).columns\n"
   ]
  },
  {
   "cell_type": "code",
   "execution_count": 37,
   "metadata": {},
   "outputs": [
    {
     "data": {
      "text/plain": [
       "<1422x7325 sparse matrix of type '<class 'numpy.float64'>'\n",
       "\twith 93852 stored elements in Compressed Sparse Row format>"
      ]
     },
     "execution_count": 37,
     "metadata": {},
     "output_type": "execute_result"
    }
   ],
   "source": [
    "# Transforming Categorial variables using OneHotEncoder\n",
    "cat_encoder = OneHotEncoder()\n",
    "df_cat_processed = cat_encoder.fit_transform(df)\n",
    "df_cat_processed"
   ]
  },
  {
   "cell_type": "code",
   "execution_count": 40,
   "metadata": {},
   "outputs": [],
   "source": [
    "#Separate features and target variables\n",
    "housing_X = df.drop('SalePrice', axis=1)\n",
    "housing_y = df['SalePrice']"
   ]
  },
  {
   "cell_type": "code",
   "execution_count": 41,
   "metadata": {},
   "outputs": [],
   "source": [
    "# Getting list of numerical and categorical values separately\n",
    "num_attributes = housing_X.select_dtypes(exclude=['object'])\n",
    "cat_attributes = housing_X.select_dtypes(include=['object'])"
   ]
  },
  {
   "cell_type": "code",
   "execution_count": 42,
   "metadata": {},
   "outputs": [],
   "source": [
    "\n",
    "num_attribs = list(num_attributes)\n",
    "cat_attribs = list(cat_attributes)"
   ]
  },
  {
   "cell_type": "code",
   "execution_count": 45,
   "metadata": {},
   "outputs": [],
   "source": [
    "num_pipeline = Pipeline([\n",
    "    ('imputer', SimpleImputer(strategy=\"median\")),\n",
    "    ('std_scaler', StandardScaler())\n",
    "])"
   ]
  },
  {
   "cell_type": "code",
   "execution_count": 46,
   "metadata": {},
   "outputs": [],
   "source": [
    "full_pipeline = ColumnTransformer([\n",
    "    (\"num\", num_pipeline, num_attribs),\n",
    "    (\"cat\", OneHotEncoder(), cat_attribs)\n",
    "])"
   ]
  },
  {
   "cell_type": "code",
   "execution_count": 47,
   "metadata": {},
   "outputs": [
    {
     "name": "stdout",
     "output_type": "stream",
     "text": [
      "housing_y:\n",
      " count      1422.000000\n",
      "mean     178405.042897\n",
      "std       74506.926127\n",
      "min       35311.000000\n",
      "25%      129600.000000\n",
      "50%      161500.000000\n",
      "75%      211750.000000\n",
      "max      611657.000000\n",
      "Name: SalePrice, dtype: float64\n"
     ]
    }
   ],
   "source": [
    "print(\"housing_y:\\n\",housing_y.describe())\n"
   ]
  },
  {
   "cell_type": "code",
   "execution_count": 48,
   "metadata": {},
   "outputs": [],
   "source": [
    "housing_y_prepared = np.log(housing_y)\n"
   ]
  },
  {
   "cell_type": "code",
   "execution_count": 49,
   "metadata": {},
   "outputs": [],
   "source": [
    "housing_X_prepared = full_pipeline.fit_transform(housing_X)\n"
   ]
  },
  {
   "cell_type": "code",
   "execution_count": 50,
   "metadata": {},
   "outputs": [
    {
     "name": "stdout",
     "output_type": "stream",
     "text": [
      "\n",
      "housing_y_prepared:\n",
      " 0       12.247694\n",
      "1       12.109011\n",
      "2       12.317167\n",
      "3       11.849398\n",
      "4       12.429216\n",
      "          ...    \n",
      "1454    12.128111\n",
      "1455    12.072541\n",
      "1456    12.254863\n",
      "1457    12.493130\n",
      "1458    11.864462\n",
      "Name: SalePrice, Length: 1422, dtype: float64\n"
     ]
    }
   ],
   "source": [
    "print(\"\\nhousing_y_prepared:\\n\",housing_y_prepared)\n"
   ]
  },
  {
   "cell_type": "code",
   "execution_count": 51,
   "metadata": {},
   "outputs": [
    {
     "data": {
      "text/plain": [
       "<1422x273 sparse matrix of type '<class 'numpy.float64'>'\n",
       "\twith 92430 stored elements in Compressed Sparse Row format>"
      ]
     },
     "execution_count": 51,
     "metadata": {},
     "output_type": "execute_result"
    }
   ],
   "source": [
    "housing_X_prepared\n"
   ]
  },
  {
   "cell_type": "code",
   "execution_count": 53,
   "metadata": {},
   "outputs": [],
   "source": [
    "from sklearn.model_selection import train_test_split\n",
    "from sklearn.linear_model import LinearRegression"
   ]
  },
  {
   "cell_type": "code",
   "execution_count": 54,
   "metadata": {},
   "outputs": [],
   "source": [
    "X_train,X_test,y_train,y_test=train_test_split(housing_X_prepared,housing_y_prepared,test_size=.2)"
   ]
  },
  {
   "cell_type": "code",
   "execution_count": 55,
   "metadata": {},
   "outputs": [
    {
     "name": "stdout",
     "output_type": "stream",
     "text": [
      "Accuracy%: 91.14270510654504\n"
     ]
    }
   ],
   "source": [
    "model = LinearRegression()\n",
    "model.fit(X_train,y_train)\n",
    "print(\"Accuracy%:\", model.score(X_test,y_test)* 100 )"
   ]
  },
  {
   "cell_type": "code",
   "execution_count": 56,
   "metadata": {},
   "outputs": [],
   "source": [
    "from sklearn.metrics import mean_squared_error \n",
    "from sklearn.linear_model import Lasso , ElasticNet\n",
    "from sklearn.linear_model import Ridge\n",
    "from sklearn.neighbors import KNeighborsRegressor\n",
    "from sklearn.svm import SVR\n",
    "from sklearn.ensemble import RandomForestRegressor,GradientBoostingRegressor, AdaBoostRegressor\n",
    "from sklearn.tree import DecisionTreeRegressor\n"
   ]
  },
  {
   "cell_type": "code",
   "execution_count": 57,
   "metadata": {},
   "outputs": [],
   "source": [
    "def inv_y(transformed_y):\n",
    "    return np.exp(transformed_y)"
   ]
  },
  {
   "cell_type": "code",
   "execution_count": 58,
   "metadata": {},
   "outputs": [
    {
     "name": "stderr",
     "output_type": "stream",
     "text": [
      "C:\\Users\\abdo\\.conda\\envs\\pytorch\\lib\\site-packages\\ipykernel_launcher.py:2: DeprecationWarning: The default dtype for empty Series will be 'object' instead of 'float64' in a future version. Specify a dtype explicitly to silence this warning.\n",
      "  \n",
      "C:\\Users\\abdo\\.conda\\envs\\pytorch\\lib\\site-packages\\ipykernel_launcher.py:6: DeprecationWarning: The default dtype for empty Series will be 'object' instead of 'float64' in a future version. Specify a dtype explicitly to silence this warning.\n",
      "  \n"
     ]
    }
   ],
   "source": [
    "# Series to collect RMSE for the different algorithms: \"algortihm name + RMSE\"\n",
    "rmse_compare = pd.Series()\n",
    "rmse_compare.index.name = \"Model\"\n",
    "\n",
    "# Series to collect the accuracy for the different algorithms: \"algorithms name + score\"\n",
    "scores_compare = pd.Series()\n",
    "scores_compare.index.name = \"Model\""
   ]
  },
  {
   "cell_type": "code",
   "execution_count": 59,
   "metadata": {},
   "outputs": [],
   "source": [
    "linear_model = LinearRegression()\n",
    "linear_model.fit(X_train,y_train)\n",
    "\n",
    "linear_val_predictions = linear_model.predict(X_test)\n",
    "linear_val_rmse = mean_squared_error(inv_y(linear_val_predictions), inv_y(y_test))\n",
    "linear_val_rmse = np.sqrt(linear_val_rmse)\n",
    "rmse_compare['LinearRegression'] = linear_val_rmse\n",
    "\n",
    "lr_score = linear_model.score(X_test, y_test)*100\n",
    "scores_compare['LinearRegression'] = lr_score\n",
    "\n",
    "\n"
   ]
  },
  {
   "cell_type": "code",
   "execution_count": 60,
   "metadata": {},
   "outputs": [],
   "source": [
    "#Model 2: Decision Tress ===========================\n",
    "dtree_model = DecisionTreeRegressor(random_state=5)\n",
    "dtree_model.fit(X_train, y_train)\n",
    "\n",
    "dtree_val_predictions = dtree_model.predict(X_test)\n",
    "dtree_val_rmse = mean_squared_error(inv_y(dtree_val_predictions), inv_y(y_test))\n",
    "dtree_val_rmse = np.sqrt(dtree_val_rmse)\n",
    "rmse_compare['DecisionTreeRegressor'] = dtree_val_rmse\n",
    "\n",
    "dtree_score = dtree_model.score(X_test, y_test)*100\n",
    "scores_compare['DecisionTreeRegressor'] = dtree_score\n",
    "\n",
    "# Model 3: Random Forest ==========================\n",
    "rf_model = RandomForestRegressor(random_state=5)\n",
    "rf_model.fit(X_train, y_train)\n",
    "\n",
    "rf_val_predictions = rf_model.predict(X_test)\n",
    "rf_val_rmse = mean_squared_error(inv_y(rf_val_predictions), inv_y(y_test))\n",
    "rf_val_rmse = np.sqrt(rf_val_rmse)\n",
    "rmse_compare['RandomForest'] = rf_val_rmse\n",
    "\n",
    "rf_score = rf_model.score(X_test, y_test)*100\n",
    "scores_compare['RandomForest'] = rf_score\n",
    "\n",
    "\n",
    "# Model 4: Gradient Boostinf Regression ===========\n",
    "gbr_model = GradientBoostingRegressor(n_estimators=300, learning_rate=0.05, max_depth=4, random_state=5)\n",
    "gbr_model.fit(X_train, y_train)\n",
    "\n",
    "gbr_val_predictions = gbr_model.predict(X_test)\n",
    "gbr_val_rmse = mean_squared_error(inv_y(gbr_val_predictions), inv_y(y_test))\n",
    "gbr_val_rmse = np.sqrt(gbr_val_rmse)\n",
    "rmse_compare['GradientBoostingRegression'] = gbr_val_rmse\n",
    "\n",
    "gbr_score = gbr_model.score(X_test, y_test)*100\n",
    "scores_compare['GradientBoostingRegression'] = gbr_score"
   ]
  },
  {
   "cell_type": "code",
   "execution_count": 61,
   "metadata": {},
   "outputs": [
    {
     "name": "stdout",
     "output_type": "stream",
     "text": [
      "RMSE values for different algorithms:\n"
     ]
    },
    {
     "data": {
      "text/plain": [
       "Model\n",
       "LinearRegression              21679.0\n",
       "GradientBoostingRegression    23039.0\n",
       "RandomForest                  24901.0\n",
       "DecisionTreeRegressor         32695.0\n",
       "dtype: float64"
      ]
     },
     "execution_count": 61,
     "metadata": {},
     "output_type": "execute_result"
    }
   ],
   "source": [
    "print(\"RMSE values for different algorithms:\")\n",
    "rmse_compare.sort_values(ascending=True).round()"
   ]
  },
  {
   "cell_type": "code",
   "execution_count": 62,
   "metadata": {},
   "outputs": [
    {
     "name": "stdout",
     "output_type": "stream",
     "text": [
      "Accuracy scores for different algorithms\n"
     ]
    },
    {
     "data": {
      "text/plain": [
       "Model\n",
       "LinearRegression              91.143\n",
       "GradientBoostingRegression    89.726\n",
       "RandomForest                  88.095\n",
       "DecisionTreeRegressor         77.936\n",
       "dtype: float64"
      ]
     },
     "execution_count": 62,
     "metadata": {},
     "output_type": "execute_result"
    }
   ],
   "source": [
    "print(\"Accuracy scores for different algorithms\")\n",
    "scores_compare.sort_values(ascending=False).round(3)"
   ]
  },
  {
   "cell_type": "code",
   "execution_count": null,
   "metadata": {},
   "outputs": [],
   "source": []
  }
 ],
 "metadata": {
  "kernelspec": {
   "display_name": "Python 3",
   "language": "python",
   "name": "python3"
  },
  "language_info": {
   "codemirror_mode": {
    "name": "ipython",
    "version": 3
   },
   "file_extension": ".py",
   "mimetype": "text/x-python",
   "name": "python",
   "nbconvert_exporter": "python",
   "pygments_lexer": "ipython3",
   "version": "3.6.10"
  }
 },
 "nbformat": 4,
 "nbformat_minor": 4
}